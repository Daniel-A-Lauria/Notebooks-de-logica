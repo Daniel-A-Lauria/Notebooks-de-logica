{
  "nbformat": 4,
  "nbformat_minor": 0,
  "metadata": {
    "colab": {
      "provenance": []
    },
    "kernelspec": {
      "name": "python3",
      "display_name": "Python 3"
    },
    "language_info": {
      "name": "python"
    }
  },
  "cells": [
    {
      "cell_type": "code",
      "execution_count": null,
      "metadata": {
        "id": "68bsuL3R7oy7"
      },
      "outputs": [],
      "source": [
        "print(\"Daniel\")"
      ]
    },
    {
      "cell_type": "code",
      "source": [
        "nome = (input(\"Digite seu nome: \"))\n",
        "sobrenome = (input(\"Digite seu sobrenome: \"))\n",
        "print(nome,sobrenome)"
      ],
      "metadata": {
        "id": "iWzYfcWW8jLj"
      },
      "execution_count": null,
      "outputs": []
    },
    {
      "cell_type": "code",
      "source": [
        "print(\"\\     /\")\n",
        "print(\" \\   / \")\n",
        "print(\"  \\ /  \")\n",
        "print(\"  / \\  \")\n",
        "print(\" /   \\ \")\n",
        "print(\"/     \\\\\")"
      ],
      "metadata": {
        "id": "XrSJ5_GH8jKo"
      },
      "execution_count": null,
      "outputs": []
    },
    {
      "cell_type": "code",
      "source": [
        "dia = float(input(\"Digite o dia do seu níver!: \"))\n",
        "mês = float(input(\"Digite o mês do seu níver!: \"))\n",
        "diax = float(input(\"Digite o dia de hoje!: \"))\n",
        "mêsx = float(input(\"Digite o mês atual!: \"))\n",
        "if dia - diax ==0 and mês - mêsx ==0:\n",
        "    print(\"Feliz Bday!\")"
      ],
      "metadata": {
        "id": "Q5btl8HfCJN4"
      },
      "execution_count": null,
      "outputs": []
    },
    {
      "cell_type": "code",
      "source": [
        "preçoog = float(input(\"digite o preço do seu produto: \"))\n",
        "valdesconto = preçoog * 0.2\n",
        "valfinal = preçoog - valdesconto\n",
        "\n",
        "print(\"preço original: \",preçoog)\n",
        "print(\"preço do desconto: R$\",valdesconto)\n",
        "print(\"preço final:\",valfinal)"
      ],
      "metadata": {
        "id": "dlyYVYECI7BE"
      },
      "execution_count": null,
      "outputs": []
    },
    {
      "cell_type": "code",
      "source": [
        "preçoog = float(input(\"digite o preço do seu produto: \"))\n",
        "valdesconto = float(input(\"digite o desconto: \"))/100\n",
        "valfinal = preçoog - (preçoog * valdesconto)\n",
        "\n",
        "print(\"preço original: R$\",preçoog)\n",
        "print(\"preço do desconto: R$\",valdesconto * 100)\n",
        "print(\"preço final: R$\",valfinal)"
      ],
      "metadata": {
        "id": "Ky8xR5AQFZqH"
      },
      "execution_count": null,
      "outputs": []
    },
    {
      "cell_type": "code",
      "source": [
        "var1 = float(input(\"Mim dê valor 1: \"))\n",
        "var2 = float(input(\"Mim dê valor 2: \"))\n",
        "var3 = float(input(\"Mim dê valor 3: \"))\n",
        "print(\"aqui a média: \", (var1 + var2 + var3) / 3)"
      ],
      "metadata": {
        "id": "bNr215AxIghg"
      },
      "execution_count": null,
      "outputs": []
    },
    {
      "cell_type": "code",
      "source": [
        "var1 = float(input(\"Mim dê valor 1: \"))\n",
        "var2 = float(input(\"Mim dê valor 2: \"))\n",
        "var3 = float(input(\"Mim dê valor 3: \"))\n",
        "var4 = float(input(\"Mim dê valor 4: \"))\n",
        "print(\"média: \", (var1 + var2 + var3 + var4) / 4)\n",
        "print(\"média geométrica: \", pow(var1 * var2 * var3 * var4, 0.5))\n",
        "print(\"média harmonica: \", 4 * var1 * var2 * var3 * var4 / (var1 + var2 + var3 + var4))"
      ],
      "metadata": {
        "id": "At9rE7SkJeDo"
      },
      "execution_count": null,
      "outputs": []
    },
    {
      "cell_type": "code",
      "source": [
        "vari1 = float(input(\"Mim dê valor 1: \"))\n",
        "vari2 = float(input(\"Mim dê valor 2: \"))\n",
        "vari3 = float(input(\"Mim dê valor 3: \"))\n",
        "vari4 = float(input(\"Mim dê valor 4: \"))\n",
        "Media = (vari1 + vari2 + vari3 + vari4) / 4\n",
        "\n",
        "S_x = (vari1 - Media)**2\n",
        "S_y = (vari2 - Media)**2\n",
        "S_z = (vari3 - Media)**2\n",
        "S_a = (vari4 - Media)**2\n",
        "S = ((S_x + S_y + S_z + S_a)/3)\n",
        "print(f\"Media = {Media}\")\n",
        "print(f\"Varianca = {S}\")\n",
        "print(f\"Desvio padrao = {S**(1/2)}\")"
      ],
      "metadata": {
        "id": "PyGmNCv-Fjm1"
      },
      "execution_count": null,
      "outputs": []
    },
    {
      "cell_type": "code",
      "source": [
        "varia1 = int(input(\"Mim dê valor 1: \"))\n",
        "varia2 = int(input(\"Mim dê valor 2: \"))\n",
        "varia3 = int(input(\"Mim dê valor 3: \"))\n",
        "if varia1 > varia2 and varia3:\n",
        "    print(varia1)\n",
        "elif varia2 > varia1 and varia3:\n",
        "    print(varia2)\n",
        "elif varia3 > varia2 and varia1:\n",
        "    print(varia3)"
      ],
      "metadata": {
        "id": "1Idj43hRNBeT"
      },
      "execution_count": null,
      "outputs": []
    },
    {
      "cell_type": "code",
      "source": [
        "varia1 = int(input(\"Mim dê valor 1: \"))\n",
        "varia2 = int(input(\"Mim dê valor 2: \"))\n",
        "varia3 = int(input(\"Mim dê valor 3: \"))\n",
        "# 1 > 2 > 3\n",
        "if varia1 > varia2 > varia3:\n",
        "    print(varia1, varia2, varia3)\n",
        "# 2 > 1 > 3\n",
        "elif varia2 > varia1 > varia3:\n",
        "    print(varia2, varia1, varia3)\n",
        "# 3 > 1 > 2\n",
        "elif varia3 > varia1 > varia2:\n",
        "    print(varia3, varia1, varia2)\n",
        "# 1 > 3 > 2\n",
        "elif varia1 > varia3 > varia2:\n",
        "    print(varia1, varia3, varia2)\n",
        "# 2 > 3 > 1\n",
        "elif varia2 > varia3 > varia1:\n",
        "    print(varia2, varia3, varia1)\n",
        "# 3 > 2 > 1\n",
        "elif varia3 > varia2 > varia1:\n",
        "    print(varia3, varia2, varia1)"
      ],
      "metadata": {
        "id": "CkuzubxTNCHk"
      },
      "execution_count": null,
      "outputs": []
    },
    {
      "cell_type": "code",
      "source": [
        "lista = []\n",
        "for x in range(3):\n",
        "    lista.append(input('digite algo!: '))\n",
        "list.sort(lista)\n",
        "print(lista)"
      ],
      "metadata": {
        "id": "8Qc3nc7fVi9c"
      },
      "execution_count": null,
      "outputs": []
    },
    {
      "cell_type": "code",
      "source": [
        "sexo = input('M ou F: ')\n",
        "peso = int(input('Seu peso em kg: '))\n",
        "altura = float(input('Sua altura em cm: '))\n",
        "idade = int(input('Sua idade em anos: '))\n",
        "\n",
        "if sexo == 'M':\n",
        "    TMB = 66.47 + (13.75 * peso) + (5.003 * altura) - (6.755 * idade)\n",
        "if sexo == 'F':\n",
        "    TMB = 655.09 + (9.563 * peso) + (1.85 * altura) - (4.676 * idade)\n",
        "print(TMB)\n",
        "\n",
        "if sexo != 'M' and sexo != 'F':\n",
        "    print(\"erro\")"
      ],
      "metadata": {
        "id": "45hoJvC_td8v"
      },
      "execution_count": null,
      "outputs": []
    },
    {
      "cell_type": "code",
      "source": [
        "tab = int(input(\"Qual tabuada?: \"))\n",
        "#:2d = reservado espaço de 2 digitos\n",
        "print(f'{tab} x {1:2d} = {tab * 1}')\n",
        "print(f'{tab} x {2:2d} = {tab * 2}')\n",
        "print(f'{tab} x {3:2d} = {tab * 3}')\n",
        "print(f'{tab} x {4:2d} = {tab * 4}')\n",
        "print(f'{tab} x {5:2d} = {tab * 5}')\n",
        "print(f'{tab} x {6:2d} = {tab * 6}')\n",
        "print(f'{tab} x {7:2d} = {tab * 7}')\n",
        "print(f'{tab} x {8:2d} = {tab * 8}')\n",
        "print(f'{tab} x {9:2d} = {tab * 9}')\n",
        "print(f'{tab} x {10} = {tab * 10}')"
      ],
      "metadata": {
        "id": "7ES3qRrzMhG_"
      },
      "execution_count": null,
      "outputs": []
    }
  ]
}